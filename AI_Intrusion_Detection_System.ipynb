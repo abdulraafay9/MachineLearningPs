{
  "nbformat": 4,
  "nbformat_minor": 0,
  "metadata": {
    "colab": {
      "provenance": []
    },
    "kernelspec": {
      "name": "python3",
      "display_name": "Python 3"
    },
    "language_info": {
      "name": "python"
    }
  },
  "cells": [
    {
      "cell_type": "code",
      "execution_count": 1,
      "metadata": {
        "colab": {
          "base_uri": "https://localhost:8080/"
        },
        "id": "Wfa3BdnV2QqQ",
        "outputId": "97f1bc89-d79d-4b80-f4e1-d23062766dba"
      },
      "outputs": [
        {
          "output_type": "stream",
          "name": "stdout",
          "text": [
            "Archive:  /content/archive.zip\n",
            "  inflating: /content/dataset/KDDTest+.arff  \n",
            "  inflating: /content/dataset/KDDTest+.txt  \n",
            "  inflating: /content/dataset/KDDTest-21.arff  \n",
            "  inflating: /content/dataset/KDDTest-21.txt  \n",
            "  inflating: /content/dataset/KDDTest1.jpg  \n",
            "  inflating: /content/dataset/KDDTrain+.arff  \n",
            "  inflating: /content/dataset/KDDTrain+.txt  \n",
            "  inflating: /content/dataset/KDDTrain+_20Percent.arff  \n",
            "  inflating: /content/dataset/KDDTrain+_20Percent.txt  \n",
            "  inflating: /content/dataset/KDDTrain1.jpg  \n",
            "  inflating: /content/dataset/index.html  \n",
            "  inflating: /content/dataset/nsl-kdd/KDDTest+.arff  \n",
            "  inflating: /content/dataset/nsl-kdd/KDDTest+.txt  \n",
            "  inflating: /content/dataset/nsl-kdd/KDDTest-21.arff  \n",
            "  inflating: /content/dataset/nsl-kdd/KDDTest-21.txt  \n",
            "  inflating: /content/dataset/nsl-kdd/KDDTest1.jpg  \n",
            "  inflating: /content/dataset/nsl-kdd/KDDTrain+.arff  \n",
            "  inflating: /content/dataset/nsl-kdd/KDDTrain+.txt  \n",
            "  inflating: /content/dataset/nsl-kdd/KDDTrain+_20Percent.arff  \n",
            "  inflating: /content/dataset/nsl-kdd/KDDTrain+_20Percent.txt  \n",
            "  inflating: /content/dataset/nsl-kdd/KDDTrain1.jpg  \n",
            "  inflating: /content/dataset/nsl-kdd/index.html  \n"
          ]
        }
      ],
      "source": [
        "!unzip /content/archive.zip -d /content/dataset\n"
      ]
    },
    {
      "cell_type": "code",
      "source": [
        "import pandas as pd\n",
        "from sklearn.model_selection import train_test_split\n",
        "from sklearn.preprocessing import LabelEncoder, StandardScaler\n",
        "from sklearn.ensemble import RandomForestClassifier\n",
        "from sklearn.metrics import classification_report, confusion_matrix, accuracy_score\n",
        "\n",
        "# Load NSL-KDD dataset\n",
        "# If you're using the raw content, you can save it as `nsl_kdd.csv` and load:\n",
        "df = pd.read_csv('dataset/KDDTrain+.txt', header=None)\n",
        "\n",
        "# Assign column names (based on NSL-KDD documentation)\n",
        "column_names = [\n",
        "    \"duration\", \"protocol_type\", \"service\", \"flag\", \"src_bytes\", \"dst_bytes\", \"land\",\n",
        "    \"wrong_fragment\", \"urgent\", \"hot\", \"num_failed_logins\", \"logged_in\", \"num_compromised\",\n",
        "    \"root_shell\", \"su_attempted\", \"num_root\", \"num_file_creations\", \"num_shells\",\n",
        "    \"num_access_files\", \"num_outbound_cmds\", \"is_host_login\", \"is_guest_login\", \"count\",\n",
        "    \"srv_count\", \"serror_rate\", \"srv_serror_rate\", \"rerror_rate\", \"srv_rerror_rate\",\n",
        "    \"same_srv_rate\", \"diff_srv_rate\", \"srv_diff_host_rate\", \"dst_host_count\",\n",
        "    \"dst_host_srv_count\", \"dst_host_same_srv_rate\", \"dst_host_diff_srv_rate\",\n",
        "    \"dst_host_same_src_port_rate\", \"dst_host_srv_diff_host_rate\", \"dst_host_serror_rate\",\n",
        "    \"dst_host_srv_serror_rate\", \"dst_host_rerror_rate\", \"dst_host_srv_rerror_rate\",\n",
        "    \"label\", \"difficulty\"\n",
        "]\n",
        "df.columns = column_names\n",
        "\n",
        "# Drop difficulty level (not useful for classification)\n",
        "df.drop('difficulty', axis=1, inplace=True)\n",
        "\n",
        "# Convert label into binary: 'normal' vs 'attack'\n",
        "df['label'] = df['label'].apply(lambda x: 'normal' if x == 'normal' else 'attack')\n",
        "\n",
        "# Encode categorical features\n",
        "cat_cols = ['protocol_type', 'service', 'flag']\n",
        "df[cat_cols] = df[cat_cols].apply(LabelEncoder().fit_transform)\n",
        "\n",
        "# Split into features and target\n",
        "X = df.drop('label', axis=1)\n",
        "y = df['label']\n",
        "\n",
        "# Encode labels\n",
        "le = LabelEncoder()\n",
        "y = le.fit_transform(y)  # 0 for attack, 1 for normal\n",
        "\n",
        "# Scale features\n",
        "scaler = StandardScaler()\n",
        "X_scaled = scaler.fit_transform(X)\n",
        "\n",
        "# Train-test split\n",
        "X_train, X_test, y_train, y_test = train_test_split(\n",
        "    X_scaled, y, test_size=0.2, random_state=42\n",
        ")\n",
        "\n",
        "# Train a model\n",
        "model = RandomForestClassifier(n_estimators=100, random_state=42)\n",
        "model.fit(X_train, y_train)\n",
        "\n",
        "# Predictions\n",
        "y_pred = model.predict(X_test)\n",
        "\n",
        "# Evaluation\n",
        "print(\"Confusion Matrix:\\n\", confusion_matrix(y_test, y_pred))\n",
        "print(\"\\nClassification Report:\\n\", classification_report(y_test, y_pred, target_names=le.classes_))\n",
        "print(\"Accuracy Score:\", accuracy_score(y_test, y_pred))\n"
      ],
      "metadata": {
        "colab": {
          "base_uri": "https://localhost:8080/"
        },
        "id": "H6AxsiuY4Em5",
        "outputId": "4866950d-ec94-4ce1-8a06-c12d2f90141f"
      },
      "execution_count": 2,
      "outputs": [
        {
          "output_type": "stream",
          "name": "stdout",
          "text": [
            "Confusion Matrix:\n",
            " [[11746    27]\n",
            " [    7 13415]]\n",
            "\n",
            "Classification Report:\n",
            "               precision    recall  f1-score   support\n",
            "\n",
            "      attack       1.00      1.00      1.00     11773\n",
            "      normal       1.00      1.00      1.00     13422\n",
            "\n",
            "    accuracy                           1.00     25195\n",
            "   macro avg       1.00      1.00      1.00     25195\n",
            "weighted avg       1.00      1.00      1.00     25195\n",
            "\n",
            "Accuracy Score: 0.9986505258979956\n"
          ]
        }
      ]
    },
    {
      "cell_type": "code",
      "source": [
        "import joblib\n",
        "# Save the trained model to a file\n",
        "joblib.dump(model, 'rf_model.pkl')"
      ],
      "metadata": {
        "colab": {
          "base_uri": "https://localhost:8080/"
        },
        "id": "MjEShrqJ6Qm1",
        "outputId": "3be7c854-1d7d-47ee-a66a-f31f83038408"
      },
      "execution_count": 5,
      "outputs": [
        {
          "output_type": "execute_result",
          "data": {
            "text/plain": [
              "['rf_model.pkl']"
            ]
          },
          "metadata": {},
          "execution_count": 5
        }
      ]
    },
    {
      "cell_type": "code",
      "source": [
        "import joblib\n",
        "import pandas as pd\n",
        "\n",
        "# Load your trained model\n",
        "model = joblib.load('rf_model.pkl')  # Random Forest model\n",
        "\n",
        "# Function to predict if input is normal (0) or attack (1)\n",
        "def predict(input_data):\n",
        "    # Convert input (dictionary) to a DataFrame\n",
        "    df = pd.DataFrame([input_data])\n",
        "\n",
        "    # Predict using the model\n",
        "    result = model.predict(df)[0]  # Get the first (and only) prediction\n",
        "    return int(result)\n"
      ],
      "metadata": {
        "id": "24Fmk4Az540_"
      },
      "execution_count": 6,
      "outputs": []
    },
    {
      "cell_type": "code",
      "source": [
        "import numpy as np\n",
        "import joblib\n",
        "import pandas as pd\n",
        "from sklearn.preprocessing import LabelEncoder\n",
        "from sklearn.compose import ColumnTransformer\n",
        "\n",
        "# Load the trained model\n",
        "model = joblib.load('rf_model.pkl')\n",
        "\n",
        "# Define column names that the model expects (41 features in total)\n",
        "columns = [\n",
        "    'protocol_type', 'service', 'flag', 'duration', 'src_bytes', 'dst_bytes',\n",
        "    'land', 'wrong_fragment', 'urgent', 'hot', 'num_failed_logins', 'logged_in',\n",
        "    'num_compromised', 'root_shell', 'su_attempted', 'num_root', 'num_file_creations',\n",
        "    'num_shells', 'num_access_files', 'num_outbound_cmds', 'is_hot_login', 'is_guest_login',\n",
        "    'count', 'srv_count', 'serror_rate', 'srv_serror_rate', 'rerror_rate', 'srv_rerror_rate',\n",
        "    'same_srv_rate', 'diff_srv_rate', 'srv_diff_host_rate', 'dst_host_count',\n",
        "    'dst_host_srv_count', 'dst_host_same_srv_rate', 'dst_host_diff_srv_rate',\n",
        "    'dst_host_same_src_port_rate', 'dst_host_srv_diff_host_rate', 'dst_host_serror_rate',\n",
        "    'dst_host_srv_serror_rate', 'dst_host_rerror_rate', 'dst_host_srv_rerror_rate'\n",
        "]\n",
        "\n",
        "new_data = pd.DataFrame([\n",
        "    ['tcp', 'ftp_data', 'SF', 491, 0, 0, 0, 0, 0, 0, 0, 0, 0, 0, 0, 0, 0, 0, 0, 0, 0, 2, 2, 0.00, 0.00, 0.00, 0.00, 1.00, 0.00, 0.00, 150, 25, 0.17, 0.03, 0.17, 0.00, 0.00, 0.00, 0.05, 0.00, 0.0]  # Added one more value (e.g., 0) to make 41 columns\n",
        "], columns=columns)\n",
        "\n",
        "# Handle categorical columns (e.g., 'protocol_type', 'service', 'flag')\n",
        "categorical_columns = ['protocol_type', 'service', 'flag']\n",
        "\n",
        "# Apply LabelEncoder to each categorical column\n",
        "encoder = LabelEncoder()\n",
        "\n",
        "for col in categorical_columns:\n",
        "    new_data[col] = encoder.fit_transform(new_data[col])\n",
        "\n",
        "# Predict using the trained model\n",
        "prediction = model.predict(new_data)\n",
        "\n",
        "# Output the prediction result\n",
        "print(\"Result:\", \"Attack\" if prediction == 1 else \"Normal\")\n"
      ],
      "metadata": {
        "colab": {
          "base_uri": "https://localhost:8080/"
        },
        "id": "-VcRq2Qa6cdm",
        "outputId": "ca316cd0-c173-4f24-ad0d-1214dc123f71"
      },
      "execution_count": 17,
      "outputs": [
        {
          "output_type": "stream",
          "name": "stdout",
          "text": [
            "Result: Attack\n"
          ]
        },
        {
          "output_type": "stream",
          "name": "stderr",
          "text": [
            "/usr/local/lib/python3.11/dist-packages/sklearn/utils/validation.py:2732: UserWarning: X has feature names, but RandomForestClassifier was fitted without feature names\n",
            "  warnings.warn(\n"
          ]
        }
      ]
    }
  ]
}