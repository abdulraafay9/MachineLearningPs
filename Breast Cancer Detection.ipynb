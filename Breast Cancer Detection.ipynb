{
 "cells": [
  {
   "cell_type": "code",
   "execution_count": 1,
   "id": "1b7512d9",
   "metadata": {},
   "outputs": [
    {
     "name": "stdout",
     "output_type": "stream",
     "text": [
      "Accuracy: 0.9649122807017544\n",
      "\n",
      "Classification Report:\n",
      "               precision    recall  f1-score   support\n",
      "\n",
      "           0       0.96      0.99      0.97        71\n",
      "           1       0.98      0.93      0.95        43\n",
      "\n",
      "    accuracy                           0.96       114\n",
      "   macro avg       0.97      0.96      0.96       114\n",
      "weighted avg       0.97      0.96      0.96       114\n",
      "\n",
      "\n",
      "Confusion Matrix:\n",
      " [[70  1]\n",
      " [ 3 40]]\n"
     ]
    }
   ],
   "source": [
    "import pandas as pd\n",
    "from sklearn.model_selection import train_test_split\n",
    "from sklearn.preprocessing import LabelEncoder\n",
    "from sklearn.ensemble import RandomForestClassifier\n",
    "from sklearn.metrics import accuracy_score, classification_report, confusion_matrix\n",
    "\n",
    "# Load the dataset\n",
    "data = pd.read_csv('data.csv')\n",
    "\n",
    "# Drop irrelevant columns\n",
    "data = data.drop(['id', 'Unnamed: 32'], axis=1)\n",
    "\n",
    "# Encode the target variable\n",
    "label_encoder = LabelEncoder()\n",
    "data['diagnosis'] = label_encoder.fit_transform(data['diagnosis'])  # M=1, B=0\n",
    "\n",
    "# Separate features and target variable\n",
    "X = data.drop('diagnosis', axis=1)\n",
    "y = data['diagnosis']\n",
    "\n",
    "# Split the data into training and testing sets\n",
    "X_train, X_test, y_train, y_test = train_test_split(X, y, test_size=0.2, random_state=42)\n",
    "\n",
    "# Initialize and train the Random Forest Classifier\n",
    "model = RandomForestClassifier(random_state=42)\n",
    "model.fit(X_train, y_train)\n",
    "\n",
    "# Predict on the test set\n",
    "y_pred = model.predict(X_test)\n",
    "\n",
    "# Evaluate the model\n",
    "accuracy = accuracy_score(y_test, y_pred)\n",
    "classification_rep = classification_report(y_test, y_pred)\n",
    "conf_matrix = confusion_matrix(y_test, y_pred)\n",
    "\n",
    "# Display results\n",
    "print(\"Accuracy:\", accuracy)\n",
    "print(\"\\nClassification Report:\\n\", classification_rep)\n",
    "print(\"\\nConfusion Matrix:\\n\", conf_matrix)\n"
   ]
  },
  {
   "cell_type": "code",
   "execution_count": 7,
   "id": "848bcc3b",
   "metadata": {},
   "outputs": [],
   "source": [
    "def predict_new_data(model, new_data):\n",
    "    \"\"\"\n",
    "    Function to make predictions on new data.\n",
    "    \n",
    "    Parameters:\n",
    "    model (sklearn model): The trained model.\n",
    "    new_data (pd.DataFrame): The new data to predict, with the same feature columns as the training data.\n",
    "    \n",
    "    Returns:\n",
    "    numpy.ndarray: The prediction(s) for the new data.\n",
    "    \"\"\"\n",
    "    return model.predict(new_data)"
   ]
  },
  {
   "cell_type": "code",
   "execution_count": 9,
   "id": "1d6b143e",
   "metadata": {},
   "outputs": [
    {
     "name": "stdout",
     "output_type": "stream",
     "text": [
      "Prediction for New Data: 1\n"
     ]
    }
   ],
   "source": [
    "import pandas as pd\n",
    "\n",
    "# Define your single row of new data as a dictionary\n",
    "new_sample = {\n",
    "    'radius_mean': 20.57,\n",
    "    'texture_mean': 17.77,\n",
    "    'perimeter_mean': 132.9,\n",
    "    'area_mean': 1326,\n",
    "    'smoothness_mean': 0.08474,\n",
    "    'compactness_mean': 0.07864,\n",
    "    'concavity_mean': 0.0869,\n",
    "    'concave points_mean': 0.07017,\n",
    "    'symmetry_mean': 0.1812,\n",
    "    'fractal_dimension_mean': 0.05667,\n",
    "    'radius_se': 0.5435,\n",
    "    'texture_se': 0.7339,\n",
    "    'perimeter_se': 3.398,\n",
    "    'area_se': 74.08,\n",
    "    'smoothness_se': 0.005225,\n",
    "    'compactness_se': 0.01308,\n",
    "    'concavity_se': 0.0186,\n",
    "    'concave points_se': 0.0134,\n",
    "    'symmetry_se': 0.01389,\n",
    "    'fractal_dimension_se': 0.003532,\n",
    "    'radius_worst': 24.99,\n",
    "    'texture_worst': 23.41,\n",
    "    'perimeter_worst': 158.8,\n",
    "    'area_worst': 1956,\n",
    "    'smoothness_worst': 0.1238,\n",
    "    'compactness_worst': 0.1866,\n",
    "    'concavity_worst': 0.2416,\n",
    "    'concave points_worst': 0.186,\n",
    "    'symmetry_worst': 0.275,\n",
    "    'fractal_dimension_worst': 0.08902\n",
    "}\n",
    "\n",
    "# Convert the dictionary to a DataFrame\n",
    "new_data_df = pd.DataFrame([new_sample])\n",
    "\n",
    "# Predict the diagnosis for the new data by passing both model and new_data_df\n",
    "new_data_prediction = predict_new_data(model, new_data_df)\n",
    "print(\"Prediction for New Data:\", new_data_prediction[0])\n"
   ]
  },
  {
   "cell_type": "code",
   "execution_count": null,
   "id": "2ebd4296",
   "metadata": {},
   "outputs": [],
   "source": []
  }
 ],
 "metadata": {
  "kernelspec": {
   "display_name": "Python 3 (ipykernel)",
   "language": "python",
   "name": "python3"
  },
  "language_info": {
   "codemirror_mode": {
    "name": "ipython",
    "version": 3
   },
   "file_extension": ".py",
   "mimetype": "text/x-python",
   "name": "python",
   "nbconvert_exporter": "python",
   "pygments_lexer": "ipython3",
   "version": "3.11.4"
  }
 },
 "nbformat": 4,
 "nbformat_minor": 5
}
